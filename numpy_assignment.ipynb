{
 "cells": [
  {
   "cell_type": "code",
   "execution_count": 1,
   "id": "d377ad5d-6109-46e2-a08f-10242f61db85",
   "metadata": {},
   "outputs": [],
   "source": [
    "import numpy as np"
   ]
  },
  {
   "cell_type": "code",
   "execution_count": 2,
   "id": "c3b5c2d7-7b76-47c6-8194-56c6af9d2fde",
   "metadata": {},
   "outputs": [],
   "source": [
    "list_=['1','2','3','4','5']"
   ]
  },
  {
   "cell_type": "code",
   "execution_count": 3,
   "id": "b81f753b-5843-4f56-b115-17a5edba3a88",
   "metadata": {},
   "outputs": [],
   "source": [
    "array_list=np.array(object=list_)"
   ]
  },
  {
   "cell_type": "code",
   "execution_count": null,
   "id": "673977c0-aa76-4e06-8fcf-b5e093bb762f",
   "metadata": {},
   "outputs": [],
   "source": [
    "Q1. Is there any difference in the data type of variables list_ and array_list? If there is then write a code\n",
    "to print the data types of both the variables."
   ]
  },
  {
   "cell_type": "code",
   "execution_count": 7,
   "id": "5442cdbb-56f6-4479-b0a0-8a21a0bd9342",
   "metadata": {},
   "outputs": [
    {
     "name": "stdout",
     "output_type": "stream",
     "text": [
      "<class 'list'>\n",
      "<class 'numpy.ndarray'>\n"
     ]
    }
   ],
   "source": [
    "# yes there are difference in the data type of variables list_ and array_list\n",
    "\n",
    "print(type(list_))\n",
    "\n",
    "print(type(array_list))"
   ]
  },
  {
   "cell_type": "code",
   "execution_count": null,
   "id": "fff7e127-68bd-4887-9182-54e596cebc0b",
   "metadata": {},
   "outputs": [],
   "source": [
    "Q2. Write a code to print the data type of each and every element of both the variables list_ and\n",
    "arra_list."
   ]
  },
  {
   "cell_type": "code",
   "execution_count": null,
   "id": "93ecab08-6c9b-446f-9bd7-3fcd9f192aca",
   "metadata": {},
   "outputs": [],
   "source": []
  },
  {
   "cell_type": "code",
   "execution_count": null,
   "id": "f90cb269-51e3-4c9f-911c-8e9bfe6947c8",
   "metadata": {},
   "outputs": [],
   "source": [
    "Q4. Write a code to find the following characteristics of variable, num_array:\n",
    "(i) shape\n",
    "(ii) size"
   ]
  },
  {
   "cell_type": "code",
   "execution_count": 12,
   "id": "8eab09de-2bda-440a-95ea-956c0013e804",
   "metadata": {},
   "outputs": [
    {
     "name": "stdout",
     "output_type": "stream",
     "text": [
      "[[8 9 2 6]\n",
      " [4 9 2 3]\n",
      " [5 7 9 3]]\n",
      "(3, 4)\n",
      "12\n"
     ]
    }
   ],
   "source": [
    "arr1=np.random.randint(1,10,(3,4))\n",
    "print(arr1)\n",
    "\n",
    "print(np.shape(arr1))\n",
    "\n",
    "print(np.size(arr1))"
   ]
  },
  {
   "cell_type": "code",
   "execution_count": null,
   "id": "7143f5cf-6cec-4b48-9b73-9163105b82d2",
   "metadata": {},
   "outputs": [],
   "source": [
    "Q5. Write a code to create numpy array of 3*3 matrix containing zeros only, using a numpy array\n",
    "creation function."
   ]
  },
  {
   "cell_type": "code",
   "execution_count": 14,
   "id": "c7064e12-1c3b-4633-b8eb-6ffe076964c5",
   "metadata": {},
   "outputs": [
    {
     "name": "stdout",
     "output_type": "stream",
     "text": [
      "[[0. 0. 0.]\n",
      " [0. 0. 0.]\n",
      " [0. 0. 0.]]\n",
      "(3, 3)\n",
      "9\n"
     ]
    }
   ],
   "source": [
    "arr2=np.zeros((3,3))\n",
    "print(arr2)\n",
    "\n",
    "print(np.shape(arr2))\n",
    "\n",
    "print(np.size(arr2))"
   ]
  },
  {
   "cell_type": "code",
   "execution_count": null,
   "id": "b61de8f6-5cba-4887-9eca-c0cbffe766dd",
   "metadata": {},
   "outputs": [],
   "source": [
    "Q6. Create an identity matrix of shape (5,5) using numpy functions?"
   ]
  },
  {
   "cell_type": "code",
   "execution_count": 16,
   "id": "b81623ac-333b-4a40-b96a-7d169d527153",
   "metadata": {},
   "outputs": [
    {
     "name": "stdout",
     "output_type": "stream",
     "text": [
      "[[1. 0. 0. 0. 0.]\n",
      " [0. 1. 0. 0. 0.]\n",
      " [0. 0. 1. 0. 0.]\n",
      " [0. 0. 0. 1. 0.]\n",
      " [0. 0. 0. 0. 1.]]\n"
     ]
    }
   ],
   "source": [
    "arr3=np.eye(5)\n",
    "print(arr3)"
   ]
  },
  {
   "cell_type": "code",
   "execution_count": null,
   "id": "c73518ad-1681-449a-a0e5-203bc3ac4021",
   "metadata": {},
   "outputs": [],
   "source": []
  }
 ],
 "metadata": {
  "kernelspec": {
   "display_name": "Python 3 (ipykernel)",
   "language": "python",
   "name": "python3"
  },
  "language_info": {
   "codemirror_mode": {
    "name": "ipython",
    "version": 3
   },
   "file_extension": ".py",
   "mimetype": "text/x-python",
   "name": "python",
   "nbconvert_exporter": "python",
   "pygments_lexer": "ipython3",
   "version": "3.10.8"
  }
 },
 "nbformat": 4,
 "nbformat_minor": 5
}
